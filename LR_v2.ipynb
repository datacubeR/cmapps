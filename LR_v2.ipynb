{
 "cells": [
  {
   "cell_type": "markdown",
   "metadata": {},
   "source": [
    "## Setear Google Colab\n",
    "\n",
    "Ejecuta la siguiente celda para setear todo en Google Colab correctamente."
   ]
  },
  {
   "cell_type": "code",
   "execution_count": null,
   "metadata": {},
   "outputs": [],
   "source": [
    "%%capture\n",
    "## Descarga de Scripts\n",
    "\n",
    "!mkdir -p assets/CMAPSSData\n",
    "!mkdir -p src\n",
    "!wget https://raw.githubusercontent.com/datacubeR/cmapps/LR-v2/assets/CMAPSSData/RUL_FD001.txt -O assets/CMAPSSData/RUL_FD001.txt\n",
    "!wget https://raw.githubusercontent.com/datacubeR/cmapps/LR-v2/assets/CMAPSSData/train_FD001.txt -O assets/CMAPSSData/train_FD001.txt\n",
    "!wget https://raw.githubusercontent.com/datacubeR/cmapps/LR-v2/assets/CMAPSSData/test_FD001.txt -O assets/CMAPSSData/test_FD001.txt\n",
    "\n",
    "!wget https://raw.githubusercontent.com/datacubeR/cmapps/LR-v2/dvc_config.sh -O dvc_config.sh\n",
    "!wget https://raw.githubusercontent.com/datacubeR/cmapps/LR-v2/params.yaml -O params.yaml\n",
    "!wget https://raw.githubusercontent.com/datacubeR/cmapps/LR-v2/exp_config.sh -O exp_config.sh\n",
    "\n",
    "\n",
    "!wget https://raw.githubusercontent.com/datacubeR/cmapps/LR-v2/src/01-featurize.py -O src/01-featurize.py\n",
    "!wget https://raw.githubusercontent.com/datacubeR/cmapps/LR-v2/src/02-train.py -O src/02-train.py\n",
    "!wget https://raw.githubusercontent.com/datacubeR/cmapps/LR-v2/src/03-evaluate.py -O src/03-evaluate.py\n",
    "!wget https://raw.githubusercontent.com/datacubeR/cmapps/LR-v2/src/config.py -O src/config.py\n",
    "!wget https://raw.githubusercontent.com/datacubeR/cmapps/LR-v2/src/utils.py -O src/utils.py"
   ]
  },
  {
   "cell_type": "code",
   "execution_count": null,
   "metadata": {},
   "outputs": [],
   "source": [
    "%%capture\n",
    "## Instalación Dependencias\n",
    "!pip install dvc"
   ]
  },
  {
   "cell_type": "markdown",
   "metadata": {},
   "source": [
    "## Inicializar GIT y DVC"
   ]
  },
  {
   "cell_type": "code",
   "execution_count": null,
   "metadata": {},
   "outputs": [],
   "source": [
    "## Configurar nuestro Github. Podemos utilizar, cualquier nombre y correo...\n",
    "!rm -rf .git\n",
    "!git init\n",
    "!git config --global user.name \"FIRST_NAME LAST_NAME\"\n",
    "!git config --global user.email \"MY_NAME@example.com\"\n",
    "!dvc init -f\n",
    "\n",
    "! git add .\n",
    "!git commit -m 'Primer Commit'"
   ]
  },
  {
   "cell_type": "markdown",
   "metadata": {},
   "source": [
    "## Declarar DAG\n",
    "\n",
    "* En esta parte definimos las dependencias de ejecución. Primero se debe ejecutar `01-featurize.py`, luego `02-train.py` y finalmente `03-evaluate.py`. \n",
    "* Si es que alguna de estos elementos falla DVC no ejecutará el Pipeline completo.\n",
    "* Finalmente DVC llevará registros de Parámetros y Resultados del Modelo.\n",
    "* Si quieres entender más la configuración revisa la Doc de DVC y el archivo `dvc_config.sh`\n"
   ]
  },
  {
   "cell_type": "code",
   "execution_count": null,
   "metadata": {},
   "outputs": [],
   "source": [
    "!bash dvc_config.sh"
   ]
  },
  {
   "cell_type": "markdown",
   "metadata": {},
   "source": [
    "El DAG generado del proceso a ejecutar es el siguiente"
   ]
  },
  {
   "cell_type": "code",
   "execution_count": null,
   "metadata": {},
   "outputs": [],
   "source": [
    "!dvc dag"
   ]
  },
  {
   "cell_type": "markdown",
   "metadata": {},
   "source": [
    "## Entorno de Experimentación\n",
    "En este caso, no queremos ejecutar el Pipeline, sino que setiar distintos experimentos y cuál funciona mejor."
   ]
  },
  {
   "cell_type": "code",
   "execution_count": null,
   "metadata": {},
   "outputs": [],
   "source": [
    "%%capture\n",
    "!bash exp_config.sh"
   ]
  },
  {
   "cell_type": "markdown",
   "metadata": {},
   "source": [
    "## Resultados\n",
    "\n",
    "Miramos el resultado de los mejores Valores de Clipping. Para evitar un output muy poblado, filtramos sólo por los valores que cambian  no mostramos ni los datasets (assets) ni el nombre del archivo (src)."
   ]
  },
  {
   "cell_type": "code",
   "execution_count": null,
   "metadata": {},
   "outputs": [],
   "source": [
    "!dvc exp show --only-changed --drop 'assets|src'"
   ]
  },
  {
   "cell_type": "code",
   "execution_count": null,
   "metadata": {},
   "outputs": [],
   "source": [
    "# Apliquemos ahora nuestro mejor resultado, completando el ID con mejores resultados...\n",
    "!dvc exp apply exp-"
   ]
  },
  {
   "cell_type": "code",
   "execution_count": null,
   "metadata": {},
   "outputs": [],
   "source": [
    "## Puedes chequear que los parámetros de Train se modificaron de acuerdo al mejor resultado.\n",
    "import yaml\n",
    "with open('params.yaml') as f:\n",
    "    params = yaml.safe_load(f)\n",
    "params['train']"
   ]
  },
  {
   "cell_type": "markdown",
   "metadata": {},
   "source": [
    "## Curvas de Análisis"
   ]
  },
  {
   "cell_type": "code",
   "execution_count": null,
   "metadata": {},
   "outputs": [],
   "source": [
    "from PIL import Image\n",
    "Image.open(\"assets/images/F_vs_t.png\")"
   ]
  }
 ],
 "metadata": {
  "kernelspec": {
   "display_name": "Python 3.7.11 ('ds')",
   "language": "python",
   "name": "python3"
  },
  "language_info": {
   "codemirror_mode": {
    "name": "ipython",
    "version": 3
   },
   "file_extension": ".py",
   "mimetype": "text/x-python",
   "name": "python",
   "nbconvert_exporter": "python",
   "pygments_lexer": "ipython3",
   "version": "3.7.11"
  },
  "orig_nbformat": 4,
  "vscode": {
   "interpreter": {
    "hash": "02481ce20d5f3b4ce889692a174112e31d20af1be893d84f7315d4b557015f6e"
   }
  }
 },
 "nbformat": 4,
 "nbformat_minor": 2
}
